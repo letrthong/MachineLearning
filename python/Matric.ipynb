{
 "cells": [
  {
   "cell_type": "code",
   "execution_count": 1,
   "metadata": {
    "collapsed": false
   },
   "outputs": [
    {
     "name": "stdout",
     "output_type": "stream",
     "text": [
      "[[ 1 11 21]\n",
      " [ 2 12 22]\n",
      " [ 3 13 23]]\n",
      "[[ 14]\n",
      " [ 74]\n",
      " [134]]\n",
      "[[  3.00239975e+14  -6.00479950e+14   3.00239975e+14]\n",
      " [ -6.00479950e+14   1.20095990e+15  -6.00479950e+14]\n",
      " [  3.00239975e+14  -6.00479950e+14   3.00239975e+14]]\n",
      "[[ 0.03333333]\n",
      " [-0.76666667]\n",
      " [ 0.83333333]]\n"
     ]
    }
   ],
   "source": [
    "from numpy import matrix\n",
    "from numpy import linalg\n",
    "A = matrix( [[1,2,3],[11,12,13],[21,22,23]]) # Creates a matrix.\n",
    "x = matrix( [[1],[2],[3]] )                  # Creates a matrix (like a column vector).\n",
    "y = matrix( [[1,2,3]] )                      # Creates a matrix (like a row vector).\n",
    "print (A.T)                                    # Transpose of A.\n",
    "print (A*x )                                   # Matrix multiplication of A and x.\n",
    "print( A.I  )                                  # Inverse of A.\n",
    "print (linalg.solve(A, x)  )   # Solve the linear equation system."
   ]
  },
  {
   "cell_type": "code",
   "execution_count": null,
   "metadata": {
    "collapsed": true
   },
   "outputs": [],
   "source": []
  }
 ],
 "metadata": {
  "kernelspec": {
   "display_name": "Python 3",
   "language": "python",
   "name": "python3"
  },
  "language_info": {
   "codemirror_mode": {
    "name": "ipython",
    "version": 3
   },
   "file_extension": ".py",
   "mimetype": "text/x-python",
   "name": "python",
   "nbconvert_exporter": "python",
   "pygments_lexer": "ipython3",
   "version": "3.5.1"
  }
 },
 "nbformat": 4,
 "nbformat_minor": 0
}
